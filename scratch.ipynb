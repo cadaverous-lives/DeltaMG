{
 "cells": [
  {
   "cell_type": "code",
   "execution_count": null,
   "metadata": {},
   "outputs": [],
   "source": [
    "import numpy as np\n",
    "import matplotlib.pyplot as plt"
   ]
  },
  {
   "cell_type": "markdown",
   "metadata": {},
   "source": [
    "$$\n",
    "    [A_c + \\Delta(v^k)](u) = f_c + \\tau(v^k)\n",
    "$$\n",
    "$$\n",
    "    \\Delta(v^k) = R \\frac{\\partial A}{\\partial v^k} P - \\frac{\\partial A_c}{\\partial Rv^k}RP\n",
    "$$\n",
    "$$\n",
    "    \\tau(v^k) = A_c(R v^k) + \\Delta(v^k)Rv^k - RA(v^k)\n",
    "$$"
   ]
  },
  {
   "cell_type": "markdown",
   "metadata": {},
   "source": [
    "In the case that $A_c(u) \\equiv I$ (coarse grid that does nothing) and $RP \\equiv I$ \n",
    "$$\n",
    "    \\Delta(v^k) = R \\frac{\\partial A}{\\partial v^k}P - I\n",
    "$$\n",
    "$$\n",
    "    \\tau(v^k) = \\left[R \\frac{\\partial A}{\\partial v^k}P\\right] Rv^k - RA(v^k)\n",
    "$$\n",
    "$$\n",
    "    \\left[R \\frac{\\partial A}{\\partial v^k}P\\right](u) = f_c + \\left[R \\frac{\\partial A}{\\partial v^k}P\\right] Rv^k - RA(v^k)\n",
    "$$\n",
    "$$\n",
    "    u =  Rv^k - \\left[R \\frac{\\partial A}{\\partial v^k}P\\right]^{-1}R[A(v^k) - f]\n",
    "$$"
   ]
  },
  {
   "cell_type": "markdown",
   "metadata": {},
   "source": []
  }
 ],
 "metadata": {
  "kernelspec": {
   "display_name": "Python 3.8.10 64-bit",
   "language": "python",
   "name": "python3"
  },
  "language_info": {
   "name": "python",
   "version": "3.8.10"
  },
  "orig_nbformat": 4,
  "vscode": {
   "interpreter": {
    "hash": "31f2aee4e71d21fbe5cf8b01ff0e069b9275f58929596ceb00d14d90e3e16cd6"
   }
  }
 },
 "nbformat": 4,
 "nbformat_minor": 2
}
